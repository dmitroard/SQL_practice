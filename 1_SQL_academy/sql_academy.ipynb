{
 "cells": [
  {
   "cell_type": "markdown",
   "id": "abe3ea0c",
   "metadata": {},
   "source": [
    "# Задачи с sql_academy\n",
    "\n"
   ]
  },
  {
   "cell_type": "code",
   "execution_count": null,
   "id": "076a7605",
   "metadata": {},
   "outputs": [],
   "source": [
    "# Вывести имена всех людей, которые есть в базе данных авиакомпаний\n",
    "SELECT name\n",
    "FROM Passenger;"
   ]
  },
  {
   "cell_type": "code",
   "execution_count": null,
   "id": "c52667d5",
   "metadata": {},
   "outputs": [],
   "source": [
    "# Вывести названия всеx авиакомпаний\n",
    "SELECT name\n",
    "FROM company;"
   ]
  },
  {
   "cell_type": "code",
   "execution_count": null,
   "id": "303c397f",
   "metadata": {},
   "outputs": [],
   "source": [
    "# Вывести все рейсы, совершенные из Москвы\n",
    "SELECT *\n",
    "FROM trip\n",
    "WHERE town_from = 'moscow';"
   ]
  },
  {
   "cell_type": "code",
   "execution_count": null,
   "id": "8d80dec6",
   "metadata": {},
   "outputs": [],
   "source": [
    "# Вывести имена людей, которые заканчиваются на \"man\"\n",
    "SELECT name\n",
    "FROM Passenger\n",
    "WHERE name LIKE '%man';"
   ]
  },
  {
   "cell_type": "code",
   "execution_count": null,
   "id": "d4f58569",
   "metadata": {},
   "outputs": [],
   "source": [
    "# Вывести количество рейсов, совершенных на TU-134\n",
    "SELECT COUNT(*) AS count\n",
    "FROM Trip\n",
    "WHERE plane = 'TU-134';"
   ]
  },
  {
   "cell_type": "code",
   "execution_count": null,
   "id": "00ff0023",
   "metadata": {},
   "outputs": [],
   "source": [
    "# Какие компании совершали перелеты на Boeing\n",
    "SELECT DISTINCT Company.name\n",
    "FROM Trip\n",
    "    INNER JOIN Company ON Trip.company = Company.id\n",
    "WHERE plane = 'Boeing';"
   ]
  },
  {
   "cell_type": "code",
   "execution_count": null,
   "id": "5b732521",
   "metadata": {},
   "outputs": [],
   "source": [
    "# Вывести все названия самолётов, на которых можно улететь в Москву (Moscow)\n",
    "SELECT DISTINCT plane\n",
    "FROM Trip\n",
    "WHERE town_to = 'Moscow';"
   ]
  },
  {
   "cell_type": "code",
   "execution_count": null,
   "id": "d368d1bd",
   "metadata": {},
   "outputs": [],
   "source": [
    "# В какие города можно улететь из Парижа (Paris) и сколько времени это займёт?\n",
    "SELECT town_to,\n",
    "    CAST(time_in - time_out AS time) AS flight_time\n",
    "FROM Trip\n",
    "WHERE town_from = 'Paris';"
   ]
  },
  {
   "cell_type": "code",
   "execution_count": null,
   "id": "31863d84",
   "metadata": {},
   "outputs": [],
   "source": [
    "# Какие компании организуют перелеты из Владивостока (Vladivostok)?\n",
    "SELECT Company.name\n",
    "FROM Trip\n",
    "    INNER JOIN Company ON Trip.company = Company.id\n",
    "WHERE town_from = 'Vladivostok';"
   ]
  },
  {
   "cell_type": "code",
   "execution_count": null,
   "id": "327f357b",
   "metadata": {},
   "outputs": [],
   "source": [
    "# Вывести вылеты, совершенные с 10 ч. по 14 ч. 1 января 1900 г.\n",
    "SELECT *\n",
    "FROM Trip\n",
    "WHERE time_out >= '1900-01-01T10:00:00.000Z'\n",
    "  AND time_out <= '1900-01-01T14:00:00.000Z';"
   ]
  },
  {
   "cell_type": "code",
   "execution_count": null,
   "id": "b84df76d",
   "metadata": {},
   "outputs": [],
   "source": [
    "# Вывести пассажиров с самым длинным именем\n",
    "SELECT name\n",
    "FROM Passenger\n",
    "WHERE LENGTH(name) = (SELECT MAX(LENGTH(name)) \n",
    "                      FROM Passenger);"
   ]
  },
  {
   "cell_type": "code",
   "execution_count": null,
   "id": "4f217108",
   "metadata": {},
   "outputs": [],
   "source": [
    "# Вывести id и количество пассажиров для всех прошедших полётов\n",
    "SELECT trip,\n",
    "    COUNT(passenger) AS count\n",
    "FROM Pass_in_trip\n",
    "GROUP BY trip;"
   ]
  },
  {
   "cell_type": "code",
   "execution_count": null,
   "id": "3d9dd864",
   "metadata": {},
   "outputs": [],
   "source": [
    "# Вывести имена людей, у которых есть полный тёзка среди пассажиров\n",
    "SELECT name\n",
    "FROM Passenger\n",
    "GROUP BY name\n",
    "HAVING COUNT(name) > 1;"
   ]
  },
  {
   "cell_type": "code",
   "execution_count": null,
   "id": "8e1ebd48",
   "metadata": {},
   "outputs": [],
   "source": [
    "# В какие города летал Bruce Willis\n",
    "SELECT DISTINCT Trip.town_to\n",
    "FROM Passenger\n",
    "    INNER JOIN Pass_in_trip ON Passenger.id = Pass_in_trip.passenger\n",
    "    INNER JOIN Trip ON Pass_in_trip.trip = Trip.id\n",
    "WHERE Passenger.name = 'Bruce Willis';"
   ]
  },
  {
   "cell_type": "code",
   "execution_count": null,
   "id": "22ec4bcb",
   "metadata": {},
   "outputs": [],
   "source": [
    "# Выведите дату и время прилёта пассажира Стив Мартин (Steve Martin) в Лондон (London)\n",
    "SELECT time_in \n",
    "FROM Trip \n",
    "JOIN Pass_in_trip\n",
    "    ON Trip.id = Pass_in_trip.trip\n",
    "JOIN Passenger\n",
    "    ON Pass_in_trip.passenger = Passenger.id\n",
    "WHERE Passenger.name = 'Steve Martin'\n",
    "  AND town_to = 'London';"
   ]
  },
  {
   "cell_type": "code",
   "execution_count": null,
   "id": "571c9eb2",
   "metadata": {},
   "outputs": [],
   "source": [
    "# Вывести отсортированный по количеству перелетов (по убыванию) и имени (по возрастанию) список \n",
    "# пассажиров, совершивших хотя бы 1 полет.\n",
    "SELECT Passenger.name, \n",
    "       COUNT(trip) AS count\n",
    "FROM Passenger\n",
    "JOIN Pass_in_trip\n",
    "    ON Pass_in_trip.passenger = Passenger.id\n",
    "GROUP BY Passenger.name\n",
    "HAVING COUNT(trip) > 0\n",
    "ORDER BY count DESC, name;"
   ]
  },
  {
   "cell_type": "code",
   "execution_count": null,
   "id": "03f3f9ac",
   "metadata": {},
   "outputs": [],
   "source": [
    "# Определить, сколько потратил в 2005 году каждый из членов семьи\n",
    "SELECT member_name,\n",
    "       status,\n",
    "       SUM(unit_price * amount) AS costs\n",
    "FROM FamilyMembers \n",
    "JOIN Payments\n",
    "    ON FamilyMembers.member_id = Payments.family_member\n",
    "WHERE EXTRACT(YEAR FROM date) = 2005\n",
    "GROUP BY member_name, status;"
   ]
  },
  {
   "cell_type": "code",
   "execution_count": null,
   "id": "d597b4cb",
   "metadata": {},
   "outputs": [],
   "source": [
    "# Узнать, кто старше всех в семьe\n",
    "SELECT member_name\n",
    "FROM FamilyMembers\n",
    "ORDER BY birthday\n",
    "LIMIT 1;\n",
    "\n",
    "SELECT member_name\n",
    "FROM FamilyMembers \n",
    "WHERE birthday = (SELECT MIN(birthday) \n",
    "                  FROM FamilyMembers);"
   ]
  },
  {
   "cell_type": "code",
   "execution_count": null,
   "id": "15f95ca9",
   "metadata": {},
   "outputs": [],
   "source": [
    "# Определить, кто из членов семьи покупал картошку (potato)\n",
    "SELECT DISTINCT status\n",
    "FROM FamilyMembers\n",
    "JOIN Payments\n",
    "    ON FamilyMembers.member_id = Payments.family_member\n",
    "JOIN Goods\n",
    "    ON Payments.good = Goods.good_id\n",
    "WHERE good_name = 'potato';"
   ]
  },
  {
   "cell_type": "code",
   "execution_count": null,
   "id": "8af00e37",
   "metadata": {},
   "outputs": [],
   "source": [
    "# Сколько и кто из семьи потратил на развлечения (entertainment). Вывести статус в семье, имя, сумму\n",
    "SELECT status, \n",
    "       member_name, \n",
    "       SUM(unit_price * amount) AS costs\n",
    "FROM FamilyMembers\n",
    "JOIN Payments\n",
    "    ON member_id = family_member\n",
    "JOIN Goods\n",
    "    ON good = good_id\n",
    "JOIN GoodTypes\n",
    "    ON type = good_type_id\n",
    "WHERE good_type_name = 'entertainment'\n",
    "GROUP BY status, \n",
    "         member_name;"
   ]
  },
  {
   "cell_type": "code",
   "execution_count": null,
   "id": "21130f35",
   "metadata": {},
   "outputs": [],
   "source": [
    "# Определить товары, которые покупали более 1 раза\n",
    "SELECT good_name\n",
    "FROM Goods\n",
    "JOIN Payments\n",
    "    ON Goods.good_id = Payments.good\n",
    "GROUP BY good_name\n",
    "HAVING COUNT(*) > 1;"
   ]
  },
  {
   "cell_type": "code",
   "execution_count": null,
   "id": "93e22486",
   "metadata": {},
   "outputs": [],
   "source": [
    "# Найти имена всех матерей (mother)\n",
    "SELECT member_name \n",
    "FROM FamilyMembers\n",
    "WHERE status = 'mother';"
   ]
  },
  {
   "cell_type": "code",
   "execution_count": null,
   "id": "ab31e8e4",
   "metadata": {},
   "outputs": [],
   "source": [
    "# Найдите самый дорогой деликатес (delicacies) и выведите его стоимость\n",
    "SELECT good_name,\n",
    "       unit_price\n",
    "FROM Payments\n",
    "JOIN Goods\n",
    "    ON Goods.good_id = Payments.good\n",
    "JOIN GoodTypes\n",
    "    ON Goods.type = GoodTypes.good_type_id\n",
    "WHERE good_type_name = 'delicacies'\n",
    "ORDER BY unit_price DESC\n",
    "LIMIT 1;"
   ]
  },
  {
   "cell_type": "code",
   "execution_count": null,
   "id": "e98566ef",
   "metadata": {},
   "outputs": [],
   "source": [
    "# Определить кто и сколько потратил в июне 2005\n",
    "SELECT member_name,\n",
    "       SUM(unit_price * amount) AS costs\n",
    "FROM FamilyMembers \n",
    "JOIN Payments\n",
    "    ON FamilyMembers.member_id = Payments.family_member\n",
    "WHERE EXTRACT(YEAR FROM date) = 2005\n",
    "  AND EXTRACT(MONTH FROM date) = 6\n",
    "GROUP BY member_name;"
   ]
  },
  {
   "cell_type": "code",
   "execution_count": null,
   "id": "3e47a008",
   "metadata": {},
   "outputs": [],
   "source": [
    "# Определить, какие товары не покупались в 2005 году\n",
    "SELECT good_name \n",
    "FROM Goods\n",
    "WHERE good_id NOT IN (SELECT good\n",
    "                      FROM Payments\n",
    "                      WHERE EXTRACT(YEAR FROM date) = 2005);"
   ]
  },
  {
   "cell_type": "code",
   "execution_count": null,
   "id": "fff8089f",
   "metadata": {},
   "outputs": [],
   "source": [
    "# Определить группы товаров, которые не приобретались в 2005 году\n",
    "SELECT DISTINCT good_type_name \n",
    "FROM GoodTypes\n",
    "WHERE good_type_id NOT IN (SELECT good_type_id \n",
    "                      FROM GoodTypes\n",
    "                      JOIN Goods ON good_type_id = type\n",
    "                      JOIN Payments ON good_id=good\n",
    "                      WHERE EXTRACT(YEAR FROM date) = 2005);"
   ]
  },
  {
   "cell_type": "code",
   "execution_count": null,
   "id": "a883fd52",
   "metadata": {},
   "outputs": [],
   "source": [
    "# Узнать, сколько потрачено на каждую из групп товаров в 2005 году. Вывести название группы и сумму\n",
    "SELECT DISTINCT good_type_name,\n",
    "       SUM(unit_price * amount) AS costs\n",
    "FROM GoodTypes\n",
    "JOIN Goods ON good_type_id = type\n",
    "JOIN Payments ON good_id=good\n",
    "WHERE EXTRACT(YEAR FROM date) = 2005\n",
    "GROUP BY good_type_name;"
   ]
  },
  {
   "cell_type": "code",
   "execution_count": null,
   "id": "894385d6",
   "metadata": {},
   "outputs": [],
   "source": [
    "# Сколько рейсов совершили авиакомпании из Ростова (Rostov) в Москву (Moscow) ?\n",
    "SELECT COUNT(*) AS count\n",
    "FROM Trip\n",
    "WHERE town_to = 'Moscow'\n",
    "  AND town_from = 'Rostov';"
   ]
  },
  {
   "cell_type": "code",
   "execution_count": null,
   "id": "321f3961",
   "metadata": {},
   "outputs": [],
   "source": [
    "# Выведите имена пассажиров улетевших в Москву (Moscow) на самолете TU-134\n",
    "SELECT DISTINCT Passenger.name \n",
    "FROM Passenger \n",
    "JOIN Pass_in_trip\n",
    "    ON Passenger.id = Pass_in_trip.passenger\n",
    "JOIN Trip\n",
    "    ON Trip.id = Pass_in_trip.trip\n",
    "WHERE town_to = 'Moscow'\n",
    "  AND plane = 'TU-134';"
   ]
  },
  {
   "cell_type": "code",
   "execution_count": null,
   "id": "2989d60a",
   "metadata": {},
   "outputs": [],
   "source": [
    "# Выведите нагруженность (число пассажиров) каждого рейса (trip). \n",
    "#Результат вывести в отсортированном виде по убыванию нагруженности.\n",
    "SELECT trip,\n",
    "       COUNT(*) AS count\n",
    "FROM Pass_in_trip\n",
    "GROUP BY trip\n",
    "ORDER BY count DESC;"
   ]
  },
  {
   "cell_type": "code",
   "execution_count": null,
   "id": "d7effc96",
   "metadata": {},
   "outputs": [],
   "source": [
    "# Вывести всех членов семьи с фамилией Quincey.\n",
    "SELECT *\n",
    "FROM FamilyMembers\n",
    "WHERE member_name LIKE '%Quincey';"
   ]
  },
  {
   "cell_type": "code",
   "execution_count": null,
   "id": "7348a929",
   "metadata": {},
   "outputs": [],
   "source": [
    "# Вывести средний возраст людей (в годах), хранящихся в базе данных. Результат округлите до целого в меньшую сторону\n",
    "SELECT FLOOR(AVG(EXTRACT(YEAR FROM CURRENT_DATE) - EXTRACT(YEAR FROM birthday))) AS age\n",
    "FROM FamilyMembers;"
   ]
  },
  {
   "cell_type": "code",
   "execution_count": null,
   "id": "abe44ca0",
   "metadata": {},
   "outputs": [],
   "source": [
    "# Найдите среднюю стоимость икры. В базе данных хранятся данные о покупках красной (red caviar) и черной икры (black caviar).\n",
    "SELECT AVG(unit_price) AS cost\n",
    "FROM Payments\n",
    "JOIN Goods\n",
    "    ON Payments.good = Goods.good_id\n",
    "WHERE good_name IN ('red caviar', 'black caviar');"
   ]
  },
  {
   "cell_type": "code",
   "execution_count": null,
   "id": "bc5ec416",
   "metadata": {},
   "outputs": [],
   "source": [
    "# Сколько всего 10-ых классов\n",
    "SELECT COUNT(*) as count\n",
    "FROM Class\n",
    "WHERE name LIKE '10%';"
   ]
  },
  {
   "cell_type": "code",
   "execution_count": null,
   "id": "864c7f41",
   "metadata": {},
   "outputs": [],
   "source": [
    "# Сколько различных кабинетов школы использовались 2.09.2019 в образовательных целях?\n",
    "SELECT COUNT(*) AS count\n",
    "FROM Schedule\n",
    "WHERE date = '2019-09-02';"
   ]
  },
  {
   "cell_type": "code",
   "execution_count": null,
   "id": "b4630ece",
   "metadata": {},
   "outputs": [],
   "source": [
    "# Выведите информацию об обучающихся живущих на улице Пушкина (ul. Pushkina)?\n",
    "SELECT *\n",
    "FROM Student\n",
    "WHERE address LIKE 'ul. Pushkina%';"
   ]
  },
  {
   "cell_type": "code",
   "execution_count": null,
   "id": "b970bb53",
   "metadata": {},
   "outputs": [],
   "source": [
    "# Сколько лет самому молодому обучающемуся?\n",
    "SELECT MIN(TIMESTAMPDIFF(YEAR, birthday, CURRENT_DATE)) AS year\n",
    "FROM Student;"
   ]
  },
  {
   "cell_type": "code",
   "execution_count": null,
   "id": "131f11a2",
   "metadata": {},
   "outputs": [],
   "source": [
    "# Сколько Анн (Anna) учится в школе ?\n",
    "SELECT COUNT(first_name) AS count\n",
    "FROM Student\n",
    "WHERE first_name = 'Anna';"
   ]
  },
  {
   "cell_type": "code",
   "execution_count": null,
   "id": "48eea014",
   "metadata": {},
   "outputs": [],
   "source": [
    "# Сколько обучающихся в 10 B классе ?\n",
    "SELECT COUNT(student) AS count\n",
    "FROM Student_in_class\n",
    "JOIN Class\n",
    "    ON Student_in_class.class = Class.id\n",
    "WHERE Class.name = '10 B';"
   ]
  },
  {
   "cell_type": "code",
   "execution_count": null,
   "id": "4555d864",
   "metadata": {},
   "outputs": [],
   "source": [
    "# Выведите название предметов, которые преподает Ромашкин П.П. (Romashkin P.P.) ?\n",
    "SELECT name AS subjects\n",
    "FROM Subject\n",
    "JOIN Schedule \n",
    "    ON Subject.id=Schedule.subject\n",
    "JOIN Teacher \n",
    "    ON Schedule.teacher = Teacher.id\n",
    "WHERE Teacher.last_name='Romashkin'\n",
    "  AND Teacher.first_name LIKE 'P%'\n",
    "  AND Teacher.middle_name LIKE 'P%';"
   ]
  },
  {
   "cell_type": "code",
   "execution_count": null,
   "id": "66e9d789",
   "metadata": {},
   "outputs": [],
   "source": [
    "# Во сколько начинается 4-ый учебный предмет по расписанию ?\n",
    "SELECT start_pair\n",
    "FROM Timepair\n",
    "WHERE id = 4;"
   ]
  },
  {
   "cell_type": "code",
   "execution_count": null,
   "id": "53ae8085",
   "metadata": {},
   "outputs": [],
   "source": [
    "# Сколько времени обучающийся будет находиться в школе, учась со 2-го по 4-ый уч. предмет ?\n",
    "SELECT DISTINCT TIMEDIFF( \n",
    "                (SELECT end_pair FROM Timepair WHERE id = 4),\n",
    "                (SELECT start_pair FROM Timepair WHERE id = 2)\n",
    "                ) AS time\n",
    "FROM Timepair;"
   ]
  },
  {
   "cell_type": "code",
   "execution_count": null,
   "id": "b6ccf710",
   "metadata": {},
   "outputs": [],
   "source": [
    "# Выведите фамилии преподавателей, которые ведут физическую культуру (Physical Culture). Отcортируйте преподавателей по фамилии.\n",
    "SELECT last_name\n",
    "FROM Teacher\n",
    "JOIN Schedule\n",
    "    ON Teacher.id=Schedule.teacher\n",
    "JOIN Subject\n",
    "    ON Schedule.subject = Subject.id\n",
    "WHERE Subject.name = 'Physical Culture'\n",
    "ORDER BY Teacher.last_name;"
   ]
  },
  {
   "cell_type": "code",
   "execution_count": null,
   "id": "2dc8b67e",
   "metadata": {},
   "outputs": [],
   "source": [
    "# Найдите максимальный возраст (колич. лет) среди обучающихся 10 классов ?\n",
    "SELECT MAX(TIMESTAMPDIFF(YEAR, birthday, CURRENT_DATE)) AS max_year\n",
    "FROM Student\n",
    "JOIN Student_in_class\n",
    "    ON Student.id = Student_in_class.student\n",
    "JOIN Class \n",
    "    ON Student_in_class.class = Class.id\n",
    "WHERE Class.name LIKE '10%';"
   ]
  },
  {
   "cell_type": "code",
   "execution_count": null,
   "id": "0a28fc01",
   "metadata": {},
   "outputs": [],
   "source": [
    "# Какой(ие) кабинет(ы) пользуются самым большим спросом?\n",
    "SELECT classroom \n",
    "FROM Schedule\n",
    "GROUP BY classroom\n",
    "HAVING COUNT(classroom) = (SELECT COUNT(classroom) \n",
    "                           FROM Schedule \n",
    "                           GROUP BY classroom\n",
    "                           ORDER BY COUNT(classroom) DESC \n",
    "                           LIMIT 1);"
   ]
  },
  {
   "cell_type": "code",
   "execution_count": null,
   "id": "330160c7",
   "metadata": {},
   "outputs": [],
   "source": [
    "# В каких классах введет занятия преподаватель \"Krauze\" ?\n",
    "SELECT DISTINCT name\n",
    "FROM Class\n",
    "JOIN Schedule\n",
    "    ON Class.id = Schedule.class\n",
    "JOIN Teacher\n",
    "    ON Schedule.teacher = Teacher.id\n",
    "WHERE Teacher.last_name = 'Krauze';"
   ]
  },
  {
   "cell_type": "code",
   "execution_count": null,
   "id": "ea1cd576",
   "metadata": {},
   "outputs": [],
   "source": [
    "# Сколько занятий провел Krauze 30 августа 2019 г.?\n",
    "SELECT COUNT(teacher) AS count\n",
    "FROM Schedule\n",
    "WHERE date = '2019-08-30'and teacher = (SELECT id \n",
    "                                       FROM Teacher\n",
    "                                       WHERE last_name = 'Krauze');"
   ]
  },
  {
   "cell_type": "code",
   "execution_count": null,
   "id": "f7af5bfe",
   "metadata": {},
   "outputs": [],
   "source": [
    "# Выведите заполненность классов в порядке убывания\n",
    "SELECT Class.name, \n",
    "       COUNT(Student_in_class.student) AS count\n",
    "FROM Class\n",
    "JOIN Student_in_class\n",
    "    ON Class.id = Student_in_class.class\n",
    "GROUP BY Class.id\n",
    "ORDER BY count DESC;"
   ]
  },
  {
   "cell_type": "code",
   "execution_count": null,
   "id": "754fbb87",
   "metadata": {},
   "outputs": [],
   "source": [
    "# Какой процент обучающихся учится в 10 A классе ?\n",
    "SELECT COUNT(student) * 100 / (SELECT COUNT(student) FROM Student_in_class) AS percent\n",
    "FROM Student_in_class\n",
    "JOIN Class \n",
    "    ON Student_in_class.class = Class.id\n",
    "WHERE name='10 A';"
   ]
  },
  {
   "cell_type": "code",
   "execution_count": null,
   "id": "8cce2f46",
   "metadata": {},
   "outputs": [],
   "source": [
    "# Какой процент обучающихся родился в 2000 году? Результат округлить до целого в меньшую сторону.\n",
    "SELECT FLOOR(COUNT(id) * 100 / (SELECT COUNT(id) FROM Student)) AS percent\n",
    "FROM Student\n",
    "WHERE EXTRACT(YEAR FROM birthday) = 2000;"
   ]
  }
 ],
 "metadata": {
  "kernelspec": {
   "display_name": "Python 3 (ipykernel)",
   "language": "python",
   "name": "python3"
  },
  "language_info": {
   "codemirror_mode": {
    "name": "ipython",
    "version": 3
   },
   "file_extension": ".py",
   "mimetype": "text/x-python",
   "name": "python",
   "nbconvert_exporter": "python",
   "pygments_lexer": "ipython3",
   "version": "3.10.6"
  }
 },
 "nbformat": 4,
 "nbformat_minor": 5
}
