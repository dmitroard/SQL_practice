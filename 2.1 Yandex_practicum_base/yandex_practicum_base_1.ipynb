{
 "cells": [
  {
   "cell_type": "code",
   "execution_count": null,
   "id": "f062ba33",
   "metadata": {},
   "outputs": [],
   "source": [
    "# Выгрузите из таблицы track поля milliseconds и bytes. \n",
    "# Оба поля должны быть строками. Используйте тип данных для строк нефиксированной длины.\n",
    "SELECT CAST(milliseconds AS varchar),\n",
    "       CAST(bytes AS varchar)\n",
    "FROM track;"
   ]
  },
  {
   "cell_type": "code",
   "execution_count": null,
   "id": "5a1eee03",
   "metadata": {},
   "outputs": [],
   "source": [
    "# Выгрузите из таблицы invoice поле total. Оставьте только целую часть числа\n",
    "SELECT CAST(total AS int4)\n",
    "FROM invoice;"
   ]
  },
  {
   "cell_type": "code",
   "execution_count": null,
   "id": "33271cfb",
   "metadata": {},
   "outputs": [],
   "source": [
    "# Выгрузите из таблицы staff дни рождения сотрудников. Необходимые значения в виде строк хранит поле birth_date. \n",
    "# Сформируйте запрос так, чтобы на экране отобразилась только дата.\n",
    "SELECT CAST(birth_date AS date)\n",
    "FROM staff;"
   ]
  },
  {
   "cell_type": "code",
   "execution_count": null,
   "id": "2acb3ec2",
   "metadata": {},
   "outputs": [],
   "source": [
    "# Выгрузите все значения из таблицы, отфильтровав треки дороже 0.99. Нужные значения хранит столбец unit_price.\n",
    "SELECT *\n",
    "FROM invoice_line\n",
    "WHERE unit_price > 0.99;"
   ]
  },
  {
   "cell_type": "code",
   "execution_count": null,
   "id": "1cac200b",
   "metadata": {},
   "outputs": [],
   "source": [
    "# Из таблицы client выгрузите несколько полей: first_name с именем покупателя, last_name с фамилией и city, \n",
    "# в котором указан город проживания. Оставьте записи только о тех покупателях, которые живут в Бразилии (англ. Brazil). \n",
    "# Страна проживания хранится в поле country.\n",
    "SELECT first_name,\n",
    "       last_name,\n",
    "       city\n",
    "FROM client\n",
    "WHERE country = 'Brazil';"
   ]
  },
  {
   "cell_type": "code",
   "execution_count": null,
   "id": "7d9f326c",
   "metadata": {},
   "outputs": [],
   "source": [
    "# Из таблицы invoice выгрузите поля total и customer_id. Значение total должно быть больше или равно 5, \n",
    "# а значение customer_id должно равняться 40 или 46.\n",
    "SELECT total,\n",
    "       customer_id\n",
    "FROM invoice\n",
    "WHERE total >= 5\n",
    "  AND (customer_id = 40\n",
    "  OR customer_id = 46);"
   ]
  },
  {
   "cell_type": "code",
   "execution_count": null,
   "id": "5fddab5e",
   "metadata": {},
   "outputs": [],
   "source": [
    "# Из таблицы movie выгрузите названия фильмов, стоимость аренды которых не превышает двух долларов, \n",
    "# а срок аренды составляет больше шести дней. \n",
    "# Выгруженные фильмы не должны относиться к рейтингам PG и PG-13.\n",
    "SELECT title\n",
    "FROM movie\n",
    "WHERE rental_rate <= 2\n",
    "  AND rental_duration > 6\n",
    "  AND rating <> 'PG'\n",
    "  AND rating <> 'PG-13';"
   ]
  },
  {
   "cell_type": "code",
   "execution_count": null,
   "id": "6a603cfa",
   "metadata": {},
   "outputs": [],
   "source": [
    "# Выгрузите из таблицы playlist все названия плейлистов из поля name, в которых есть подстрока 'Classic'.\n",
    "SELECT name\n",
    "FROM playlist\n",
    "WHERE name LIKE '%Classic%';"
   ]
  },
  {
   "cell_type": "code",
   "execution_count": null,
   "id": "57e338b8",
   "metadata": {},
   "outputs": [],
   "source": [
    "#  Выгрузите из таблицы movie название фильмов, описание которых заканчивается подстрокой Mexico. \n",
    "# Аренда фильмов из итоговой таблицы должна составлять меньше двух долларов либо их рейтинг не должен быть PG-13.\n",
    "SELECT title\n",
    "FROM movie\n",
    "WHERE description LIKE '%Mexico'\n",
    "  AND (rental_rate < 2\n",
    "   OR rating <> 'PG-13');"
   ]
  },
  {
   "cell_type": "code",
   "execution_count": null,
   "id": "f9ee08c9",
   "metadata": {},
   "outputs": [],
   "source": [
    "# Добавьте условие в код задания: выгрузите из таблицы invoice несколько полей, \n",
    "# в которых указаны идентификаторы покупателей от 20 до 50 включительно.\n",
    "SELECT customer_id,\n",
    "       invoice_date,\n",
    "       total\n",
    "FROM invoice\n",
    "WHERE customer_id BETWEEN 20 AND 50;"
   ]
  },
  {
   "cell_type": "code",
   "execution_count": null,
   "id": "7da72425",
   "metadata": {},
   "outputs": [],
   "source": [
    "# Отобразите имена, фамилии и страну проживания для покупателей, \n",
    "# которые не указали информацию о месте работы, регионе проживания, а также телефон и факс.\n",
    "SELECT first_name,\n",
    "       last_name,\n",
    "       country\n",
    "FROM client\n",
    "WHERE company IS NULL\n",
    "  AND state IS NULL\n",
    "  AND phone IS NULL\n",
    "  AND fax IS NULL;"
   ]
  },
  {
   "cell_type": "code",
   "execution_count": null,
   "id": "680c2f00",
   "metadata": {},
   "outputs": [],
   "source": [
    "# Отберите пять самых крупных заказов из таблицы invoice.\n",
    "SELECT *\n",
    "FROM invoice\n",
    "ORDER BY total DESC\n",
    "LIMIT 5;"
   ]
  },
  {
   "cell_type": "code",
   "execution_count": null,
   "id": "c519d8ab",
   "metadata": {},
   "outputs": [],
   "source": [
    "# Отберите пятерых самых активных клиентов в США с 25 мая 2011 по 25 сентября 2011. Дату хранит поле invoice_date\n",
    "SELECT customer_id,\n",
    "       COUNT(customer_id)\n",
    "FROM invoice\n",
    "WHERE billing_country = 'USA'\n",
    "  AND CAST(invoice_date AS date) BETWEEN '25-05-2011' AND '25-09-2011'\n",
    "GROUP BY customer_id\n",
    "ORDER BY COUNT(customer_id) DESC, customer_id\n",
    "LIMIT 5;"
   ]
  },
  {
   "cell_type": "code",
   "execution_count": null,
   "id": "fa422b79",
   "metadata": {},
   "outputs": [],
   "source": [
    "# Нужно посмотреть продажи по годам. тсортируйте таблицу по году от большего к меньшему. \n",
    "# Отберите только те записи, в которых в поле billing_country указаны страны: США (англ. USA), \n",
    "# Великобритания (англ. United Kingdom) и Германия (англ. Germany).\n",
    "SELECT EXTRACT(YEAR FROM CAST(invoice_date AS date)),\n",
    "       MIN(total),\n",
    "       MAX(total),\n",
    "       SUM(total),\n",
    "       COUNT(total),\n",
    "       ROUND(SUM(total) / COUNT(DISTINCT customer_id))\n",
    "FROM invoice\n",
    "WHERE billing_country IN ('USA', 'United Kingdom', 'Germany')\n",
    "GROUP BY EXTRACT(YEAR FROM CAST(invoice_date AS date))\n",
    "ORDER BY EXTRACT(YEAR FROM CAST(invoice_date AS date)) DESC;"
   ]
  },
  {
   "cell_type": "code",
   "execution_count": null,
   "id": "e45b98f0",
   "metadata": {},
   "outputs": [],
   "source": [
    "# Нужно объединить данные двух таблиц: track и invoice_line. \n",
    "# Таблица track хранит информацию о музыкальных треках в магазине, названия треков указаны в поле name. \n",
    "# Таблица invoice_line содержит данные о купленных треках, их стоимость указана в поле unit_price\n",
    "SELECT t.name,\n",
    "       SUM(i.quantity)\n",
    "FROM track AS t\n",
    "INNER JOIN invoice_line AS i \n",
    "    ON t.track_id = i.track_id \n",
    "GROUP BY t.name\n",
    "LIMIT 20;"
   ]
  },
  {
   "cell_type": "code",
   "execution_count": null,
   "id": "a9d09367",
   "metadata": {},
   "outputs": [],
   "source": [
    "# Нужно дополнить запрос: добавьте поле с идентификатором плейлиста playlist_id\n",
    "SELECT t.name,\n",
    "       SUM(i.quantity),\n",
    "       p.playlist_id\n",
    "FROM track AS t\n",
    "INNER JOIN invoice_line AS i \n",
    "    ON t.track_id=i.track_id\n",
    "INNER JOIN playlist_track AS p \n",
    "    ON p.track_id = t.track_id\n",
    "GROUP BY t.name, p.playlist_id\n",
    "LIMIT 20;"
   ]
  },
  {
   "cell_type": "code",
   "execution_count": null,
   "id": "1aa6e2e4",
   "metadata": {},
   "outputs": [],
   "source": [
    "#  Идентификатор плейлиста теперь указан в итоговой таблице. Но что это за плейлисты — непонятно. \n",
    "# Эту информацию можно взять в четвёртой таблице — playlist\n",
    "SELECT t.name,\n",
    "       SUM(i.quantity),\n",
    "       pt.playlist_id,\n",
    "       p.name\n",
    "FROM track AS t\n",
    "INNER JOIN invoice_line AS i \n",
    "    ON t.track_id=i.track_id\n",
    "INNER JOIN playlist_track AS pt \n",
    "    ON t.track_id=pt.track_id\n",
    "INNER JOIN playlist AS p \n",
    "    ON p.playlist_id = pt.playlist_id \n",
    "GROUP BY t.name, pt.playlist_id , p.name\n",
    "LIMIT 20;"
   ]
  },
  {
   "cell_type": "code",
   "execution_count": null,
   "id": "33330cd8",
   "metadata": {},
   "outputs": [],
   "source": [
    "# Теперь проанализируйте получившуюся таблицу. Нужно посчитать суммарную стоимость треков для каждого плейлиста\n",
    "SELECT p.name AS playlist_name,\n",
    "       SUM(t.unit_price) AS total_revenue\n",
    "FROM track AS t\n",
    "INNER JOIN invoice_line AS i \n",
    "    ON t.track_id=i.track_id\n",
    "INNER JOIN playlist_track AS pl \n",
    "    ON t.track_id=pl.track_id\n",
    "INNER JOIN playlist AS p \n",
    "    ON pl.playlist_id = p.playlist_id\n",
    "GROUP BY playlist_name\n",
    "ORDER BY total_revenue DESC;"
   ]
  },
  {
   "cell_type": "code",
   "execution_count": null,
   "id": "24c29b8e",
   "metadata": {},
   "outputs": [],
   "source": [
    "# Отберите названия уникальных категорий фильмов, в которых снималась Эмили Ди (англ. Emily Dee).\n",
    "SELECT DISTINCT category.name \n",
    "FROM film_actor \n",
    "INNER JOIN actor \n",
    "    ON actor.actor_id = film_actor.actor_id \n",
    "INNER JOIN film_category \n",
    "    ON film_category.film_id = film_actor.film_id\n",
    "INNER JOIN category \n",
    "    ON category.category_id  = film_category.category_id \n",
    "WHERE actor.first_name = 'Emily'\n",
    "  AND actor.last_name = 'Dee';"
   ]
  },
  {
   "cell_type": "code",
   "execution_count": null,
   "id": "fae8f7f2",
   "metadata": {},
   "outputs": [],
   "source": [
    "# Выведите названия всех треков, добавив информацию о датах, в которые эти треки покупали. \n",
    "SELECT name,\n",
    "       CAST(invoice.invoice_date AS date)\n",
    "FROM track \n",
    "LEFT JOIN invoice_line \n",
    "    ON track.track_id = invoice_line.track_id\n",
    "LEFT JOIN invoice \n",
    "    ON invoice.invoice_id = invoice_line.invoice_id"
   ]
  },
  {
   "cell_type": "code",
   "execution_count": null,
   "id": "37dc3aa4",
   "metadata": {},
   "outputs": [],
   "source": [
    "# Посчитайте для каждого года число уникальных названий купленных треков\n",
    "SELECT EXTRACT(YEAR FROM CAST(i.invoice_date AS date)) AS year_of_invoice,\n",
    "       COUNT(DISTINCT t.name )\n",
    "FROM track AS t\n",
    "LEFT JOIN invoice_line AS il \n",
    "    ON t.track_id = il.track_id\n",
    "LEFT JOIN invoice AS i \n",
    "    ON il.invoice_id = i.invoice_id\n",
    "GROUP BY year_of_invoice;"
   ]
  },
  {
   "cell_type": "code",
   "execution_count": null,
   "id": "78ad3295",
   "metadata": {},
   "outputs": [],
   "source": [
    "# У некоторых сотрудников есть менеджеры — их идентификаторы указаны в поле reports_to. \n",
    "# Посмотрите внимательно на схему базы: таблица staff отсылает сама к себе. \n",
    "# Отобразите таблицу с двумя полями: в первое поле войдут фамилии всех сотрудников, \n",
    "# а во второе — фамилии их менеджеров. Назовите поля employee_last_name и manager_last_name\n",
    "SELECT s2.last_name AS employee_last_name ,\n",
    "       s1.last_name AS manager_last_name\n",
    "FROM staff AS s1\n",
    "RIGHT JOIN staff AS s2\n",
    "    ON s1.employee_id = s2.reports_to"
   ]
  },
  {
   "cell_type": "code",
   "execution_count": null,
   "id": "84e8b006",
   "metadata": {},
   "outputs": [],
   "source": [
    "# Отобразите названия фильмов, в которых снимались актёры и актрисы, не указанные в базе.\n",
    "SELECT title\n",
    "FROM movie \n",
    "LEFT JOIN film_actor\n",
    "    ON movie.film_id = film_actor.film_id\n",
    "LEFT JOIN actor\n",
    "    ON film_actor.actor_id = actor.actor_id\n",
    "WHERE actor.first_name IS NULL\n",
    "GROUP BY title"
   ]
  },
  {
   "cell_type": "code",
   "execution_count": null,
   "id": "c1f61c9e",
   "metadata": {},
   "outputs": [],
   "source": [
    "# Отобразите на экране имена исполнителей, для которых в базе данных не нашлось ни одного музыкального альбома.\n",
    "SELECT name\n",
    "FROM artist\n",
    "LEFT JOIN album\n",
    "    ON artist.artist_id = album.artist_id\n",
    "GROUP BY name\n",
    "HAVING COUNT(album.album_id) = 0;"
   ]
  },
  {
   "cell_type": "code",
   "execution_count": null,
   "id": "97e935fc",
   "metadata": {},
   "outputs": [],
   "source": []
  }
 ],
 "metadata": {
  "kernelspec": {
   "display_name": "Python 3 (ipykernel)",
   "language": "python",
   "name": "python3"
  },
  "language_info": {
   "codemirror_mode": {
    "name": "ipython",
    "version": 3
   },
   "file_extension": ".py",
   "mimetype": "text/x-python",
   "name": "python",
   "nbconvert_exporter": "python",
   "pygments_lexer": "ipython3",
   "version": "3.10.6"
  }
 },
 "nbformat": 4,
 "nbformat_minor": 5
}
